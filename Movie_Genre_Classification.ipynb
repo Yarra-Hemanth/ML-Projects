{
  "nbformat": 4,
  "nbformat_minor": 0,
  "metadata": {
    "colab": {
      "provenance": [],
      "gpuType": "T4"
    },
    "kernelspec": {
      "name": "python3",
      "display_name": "Python 3"
    },
    "language_info": {
      "name": "python"
    }
  },
  "cells": [
    {
      "cell_type": "markdown",
      "source": [
        "## Importing Necessary Libraries"
      ],
      "metadata": {
        "id": "J-fsGZZmp7YB"
      }
    },
    {
      "cell_type": "code",
      "execution_count": null,
      "metadata": {
        "id": "uwW2Iwo8fqfS"
      },
      "outputs": [],
      "source": [
        "import pandas as pd\n",
        "import numpy as np\n",
        "import matplotlib.pyplot as plt\n",
        "import seaborn as sns\n",
        "\n",
        "from sklearn.model_selection import train_test_split\n",
        "from sklearn.feature_extraction.text import TfidfVectorizer\n",
        "from sklearn.naive_bayes import MultinomialNB\n",
        "from sklearn.linear_model import LogisticRegression\n",
        "from sklearn.svm import SVC\n",
        "from sklearn.metrics import accuracy_score, classification_report\n"
      ]
    },
    {
      "cell_type": "markdown",
      "source": [
        "## Importing the Dataset"
      ],
      "metadata": {
        "id": "VVLHhH-dqD0h"
      }
    },
    {
      "cell_type": "code",
      "source": [
        "import pandas as pd\n",
        "\n",
        "file_path = \"train_data.txt\"\n",
        "with open(file_path, \"r\", encoding=\"utf-8\") as f:\n",
        "    data = f.readlines()\n",
        "\n",
        "parsed_data = [line.strip().split(\" ::: \") for line in data]"
      ],
      "metadata": {
        "id": "hl3f03ubfv14"
      },
      "execution_count": null,
      "outputs": []
    },
    {
      "cell_type": "markdown",
      "source": [
        "## Converting to DataFrame"
      ],
      "metadata": {
        "id": "u-iMRQN-qKln"
      }
    },
    {
      "cell_type": "code",
      "source": [
        "df = pd.DataFrame(parsed_data, columns=[\"ID\", \"Title\", \"Genre\", \"Plot\"])\n",
        "\n",
        "df = df.drop(columns=[\"ID\"])\n",
        "\n",
        "df.head()"
      ],
      "metadata": {
        "colab": {
          "base_uri": "https://localhost:8080/",
          "height": 206
        },
        "id": "cikBsFqbqJWv",
        "outputId": "fe4cdd8b-f4be-4b27-a9dc-6badcd13e874"
      },
      "execution_count": null,
      "outputs": [
        {
          "output_type": "execute_result",
          "data": {
            "text/plain": [
              "                              Title     Genre  \\\n",
              "0      Oscar et la dame rose (2009)     drama   \n",
              "1                      Cupid (1997)  thriller   \n",
              "2  Young, Wild and Wonderful (1980)     adult   \n",
              "3             The Secret Sin (1915)     drama   \n",
              "4            The Unrecovered (2007)     drama   \n",
              "\n",
              "                                                Plot  \n",
              "0  Listening in to a conversation between his doc...  \n",
              "1  A brother and sister with a past incestuous re...  \n",
              "2  As the bus empties the students for their fiel...  \n",
              "3  To help their unemployed father make ends meet...  \n",
              "4  The film's title refers not only to the un-rec...  "
            ],
            "text/html": [
              "\n",
              "  <div id=\"df-1c48c5c2-8ead-47c1-88bd-7734efbe2073\" class=\"colab-df-container\">\n",
              "    <div>\n",
              "<style scoped>\n",
              "    .dataframe tbody tr th:only-of-type {\n",
              "        vertical-align: middle;\n",
              "    }\n",
              "\n",
              "    .dataframe tbody tr th {\n",
              "        vertical-align: top;\n",
              "    }\n",
              "\n",
              "    .dataframe thead th {\n",
              "        text-align: right;\n",
              "    }\n",
              "</style>\n",
              "<table border=\"1\" class=\"dataframe\">\n",
              "  <thead>\n",
              "    <tr style=\"text-align: right;\">\n",
              "      <th></th>\n",
              "      <th>Title</th>\n",
              "      <th>Genre</th>\n",
              "      <th>Plot</th>\n",
              "    </tr>\n",
              "  </thead>\n",
              "  <tbody>\n",
              "    <tr>\n",
              "      <th>0</th>\n",
              "      <td>Oscar et la dame rose (2009)</td>\n",
              "      <td>drama</td>\n",
              "      <td>Listening in to a conversation between his doc...</td>\n",
              "    </tr>\n",
              "    <tr>\n",
              "      <th>1</th>\n",
              "      <td>Cupid (1997)</td>\n",
              "      <td>thriller</td>\n",
              "      <td>A brother and sister with a past incestuous re...</td>\n",
              "    </tr>\n",
              "    <tr>\n",
              "      <th>2</th>\n",
              "      <td>Young, Wild and Wonderful (1980)</td>\n",
              "      <td>adult</td>\n",
              "      <td>As the bus empties the students for their fiel...</td>\n",
              "    </tr>\n",
              "    <tr>\n",
              "      <th>3</th>\n",
              "      <td>The Secret Sin (1915)</td>\n",
              "      <td>drama</td>\n",
              "      <td>To help their unemployed father make ends meet...</td>\n",
              "    </tr>\n",
              "    <tr>\n",
              "      <th>4</th>\n",
              "      <td>The Unrecovered (2007)</td>\n",
              "      <td>drama</td>\n",
              "      <td>The film's title refers not only to the un-rec...</td>\n",
              "    </tr>\n",
              "  </tbody>\n",
              "</table>\n",
              "</div>\n",
              "    <div class=\"colab-df-buttons\">\n",
              "\n",
              "  <div class=\"colab-df-container\">\n",
              "    <button class=\"colab-df-convert\" onclick=\"convertToInteractive('df-1c48c5c2-8ead-47c1-88bd-7734efbe2073')\"\n",
              "            title=\"Convert this dataframe to an interactive table.\"\n",
              "            style=\"display:none;\">\n",
              "\n",
              "  <svg xmlns=\"http://www.w3.org/2000/svg\" height=\"24px\" viewBox=\"0 -960 960 960\">\n",
              "    <path d=\"M120-120v-720h720v720H120Zm60-500h600v-160H180v160Zm220 220h160v-160H400v160Zm0 220h160v-160H400v160ZM180-400h160v-160H180v160Zm440 0h160v-160H620v160ZM180-180h160v-160H180v160Zm440 0h160v-160H620v160Z\"/>\n",
              "  </svg>\n",
              "    </button>\n",
              "\n",
              "  <style>\n",
              "    .colab-df-container {\n",
              "      display:flex;\n",
              "      gap: 12px;\n",
              "    }\n",
              "\n",
              "    .colab-df-convert {\n",
              "      background-color: #E8F0FE;\n",
              "      border: none;\n",
              "      border-radius: 50%;\n",
              "      cursor: pointer;\n",
              "      display: none;\n",
              "      fill: #1967D2;\n",
              "      height: 32px;\n",
              "      padding: 0 0 0 0;\n",
              "      width: 32px;\n",
              "    }\n",
              "\n",
              "    .colab-df-convert:hover {\n",
              "      background-color: #E2EBFA;\n",
              "      box-shadow: 0px 1px 2px rgba(60, 64, 67, 0.3), 0px 1px 3px 1px rgba(60, 64, 67, 0.15);\n",
              "      fill: #174EA6;\n",
              "    }\n",
              "\n",
              "    .colab-df-buttons div {\n",
              "      margin-bottom: 4px;\n",
              "    }\n",
              "\n",
              "    [theme=dark] .colab-df-convert {\n",
              "      background-color: #3B4455;\n",
              "      fill: #D2E3FC;\n",
              "    }\n",
              "\n",
              "    [theme=dark] .colab-df-convert:hover {\n",
              "      background-color: #434B5C;\n",
              "      box-shadow: 0px 1px 3px 1px rgba(0, 0, 0, 0.15);\n",
              "      filter: drop-shadow(0px 1px 2px rgba(0, 0, 0, 0.3));\n",
              "      fill: #FFFFFF;\n",
              "    }\n",
              "  </style>\n",
              "\n",
              "    <script>\n",
              "      const buttonEl =\n",
              "        document.querySelector('#df-1c48c5c2-8ead-47c1-88bd-7734efbe2073 button.colab-df-convert');\n",
              "      buttonEl.style.display =\n",
              "        google.colab.kernel.accessAllowed ? 'block' : 'none';\n",
              "\n",
              "      async function convertToInteractive(key) {\n",
              "        const element = document.querySelector('#df-1c48c5c2-8ead-47c1-88bd-7734efbe2073');\n",
              "        const dataTable =\n",
              "          await google.colab.kernel.invokeFunction('convertToInteractive',\n",
              "                                                    [key], {});\n",
              "        if (!dataTable) return;\n",
              "\n",
              "        const docLinkHtml = 'Like what you see? Visit the ' +\n",
              "          '<a target=\"_blank\" href=https://colab.research.google.com/notebooks/data_table.ipynb>data table notebook</a>'\n",
              "          + ' to learn more about interactive tables.';\n",
              "        element.innerHTML = '';\n",
              "        dataTable['output_type'] = 'display_data';\n",
              "        await google.colab.output.renderOutput(dataTable, element);\n",
              "        const docLink = document.createElement('div');\n",
              "        docLink.innerHTML = docLinkHtml;\n",
              "        element.appendChild(docLink);\n",
              "      }\n",
              "    </script>\n",
              "  </div>\n",
              "\n",
              "\n",
              "<div id=\"df-79e832f8-9851-407c-a86a-b7388383dd9c\">\n",
              "  <button class=\"colab-df-quickchart\" onclick=\"quickchart('df-79e832f8-9851-407c-a86a-b7388383dd9c')\"\n",
              "            title=\"Suggest charts\"\n",
              "            style=\"display:none;\">\n",
              "\n",
              "<svg xmlns=\"http://www.w3.org/2000/svg\" height=\"24px\"viewBox=\"0 0 24 24\"\n",
              "     width=\"24px\">\n",
              "    <g>\n",
              "        <path d=\"M19 3H5c-1.1 0-2 .9-2 2v14c0 1.1.9 2 2 2h14c1.1 0 2-.9 2-2V5c0-1.1-.9-2-2-2zM9 17H7v-7h2v7zm4 0h-2V7h2v10zm4 0h-2v-4h2v4z\"/>\n",
              "    </g>\n",
              "</svg>\n",
              "  </button>\n",
              "\n",
              "<style>\n",
              "  .colab-df-quickchart {\n",
              "      --bg-color: #E8F0FE;\n",
              "      --fill-color: #1967D2;\n",
              "      --hover-bg-color: #E2EBFA;\n",
              "      --hover-fill-color: #174EA6;\n",
              "      --disabled-fill-color: #AAA;\n",
              "      --disabled-bg-color: #DDD;\n",
              "  }\n",
              "\n",
              "  [theme=dark] .colab-df-quickchart {\n",
              "      --bg-color: #3B4455;\n",
              "      --fill-color: #D2E3FC;\n",
              "      --hover-bg-color: #434B5C;\n",
              "      --hover-fill-color: #FFFFFF;\n",
              "      --disabled-bg-color: #3B4455;\n",
              "      --disabled-fill-color: #666;\n",
              "  }\n",
              "\n",
              "  .colab-df-quickchart {\n",
              "    background-color: var(--bg-color);\n",
              "    border: none;\n",
              "    border-radius: 50%;\n",
              "    cursor: pointer;\n",
              "    display: none;\n",
              "    fill: var(--fill-color);\n",
              "    height: 32px;\n",
              "    padding: 0;\n",
              "    width: 32px;\n",
              "  }\n",
              "\n",
              "  .colab-df-quickchart:hover {\n",
              "    background-color: var(--hover-bg-color);\n",
              "    box-shadow: 0 1px 2px rgba(60, 64, 67, 0.3), 0 1px 3px 1px rgba(60, 64, 67, 0.15);\n",
              "    fill: var(--button-hover-fill-color);\n",
              "  }\n",
              "\n",
              "  .colab-df-quickchart-complete:disabled,\n",
              "  .colab-df-quickchart-complete:disabled:hover {\n",
              "    background-color: var(--disabled-bg-color);\n",
              "    fill: var(--disabled-fill-color);\n",
              "    box-shadow: none;\n",
              "  }\n",
              "\n",
              "  .colab-df-spinner {\n",
              "    border: 2px solid var(--fill-color);\n",
              "    border-color: transparent;\n",
              "    border-bottom-color: var(--fill-color);\n",
              "    animation:\n",
              "      spin 1s steps(1) infinite;\n",
              "  }\n",
              "\n",
              "  @keyframes spin {\n",
              "    0% {\n",
              "      border-color: transparent;\n",
              "      border-bottom-color: var(--fill-color);\n",
              "      border-left-color: var(--fill-color);\n",
              "    }\n",
              "    20% {\n",
              "      border-color: transparent;\n",
              "      border-left-color: var(--fill-color);\n",
              "      border-top-color: var(--fill-color);\n",
              "    }\n",
              "    30% {\n",
              "      border-color: transparent;\n",
              "      border-left-color: var(--fill-color);\n",
              "      border-top-color: var(--fill-color);\n",
              "      border-right-color: var(--fill-color);\n",
              "    }\n",
              "    40% {\n",
              "      border-color: transparent;\n",
              "      border-right-color: var(--fill-color);\n",
              "      border-top-color: var(--fill-color);\n",
              "    }\n",
              "    60% {\n",
              "      border-color: transparent;\n",
              "      border-right-color: var(--fill-color);\n",
              "    }\n",
              "    80% {\n",
              "      border-color: transparent;\n",
              "      border-right-color: var(--fill-color);\n",
              "      border-bottom-color: var(--fill-color);\n",
              "    }\n",
              "    90% {\n",
              "      border-color: transparent;\n",
              "      border-bottom-color: var(--fill-color);\n",
              "    }\n",
              "  }\n",
              "</style>\n",
              "\n",
              "  <script>\n",
              "    async function quickchart(key) {\n",
              "      const quickchartButtonEl =\n",
              "        document.querySelector('#' + key + ' button');\n",
              "      quickchartButtonEl.disabled = true;  // To prevent multiple clicks.\n",
              "      quickchartButtonEl.classList.add('colab-df-spinner');\n",
              "      try {\n",
              "        const charts = await google.colab.kernel.invokeFunction(\n",
              "            'suggestCharts', [key], {});\n",
              "      } catch (error) {\n",
              "        console.error('Error during call to suggestCharts:', error);\n",
              "      }\n",
              "      quickchartButtonEl.classList.remove('colab-df-spinner');\n",
              "      quickchartButtonEl.classList.add('colab-df-quickchart-complete');\n",
              "    }\n",
              "    (() => {\n",
              "      let quickchartButtonEl =\n",
              "        document.querySelector('#df-79e832f8-9851-407c-a86a-b7388383dd9c button');\n",
              "      quickchartButtonEl.style.display =\n",
              "        google.colab.kernel.accessAllowed ? 'block' : 'none';\n",
              "    })();\n",
              "  </script>\n",
              "</div>\n",
              "\n",
              "    </div>\n",
              "  </div>\n"
            ],
            "application/vnd.google.colaboratory.intrinsic+json": {
              "type": "dataframe",
              "variable_name": "df",
              "summary": "{\n  \"name\": \"df\",\n  \"rows\": 54214,\n  \"fields\": [\n    {\n      \"column\": \"Title\",\n      \"properties\": {\n        \"dtype\": \"string\",\n        \"num_unique_values\": 54214,\n        \"samples\": [\n          \"Sisterhood (2008)\",\n          \"Idylle (1983)\",\n          \"The Lost Skeleton Returns Again (2009)\"\n        ],\n        \"semantic_type\": \"\",\n        \"description\": \"\"\n      }\n    },\n    {\n      \"column\": \"Genre\",\n      \"properties\": {\n        \"dtype\": \"category\",\n        \"num_unique_values\": 27,\n        \"samples\": [\n          \"sport\",\n          \"sci-fi\",\n          \"animation\"\n        ],\n        \"semantic_type\": \"\",\n        \"description\": \"\"\n      }\n    },\n    {\n      \"column\": \"Plot\",\n      \"properties\": {\n        \"dtype\": \"string\",\n        \"num_unique_values\": 54086,\n        \"samples\": [\n          \"When a celestial event causes a depressed call centre employee to gain amazing abilities, he is told that he is actually the reincarnation of a powerful warrior. With his new-found ally, he must find out who he must become before the forces who seek his destruction find him.\",\n          \"Set against a lush Western Indian landscape during the monsoon season, CHITRAKUT delicately sets the tone, interweaving the lives of Saloni, Shaan, Debu, Alisha and Kim - all converging at different intersections of life, discovering the meaning of love, encapsulating fractured feelings, consumption of romantic longing and fleeting moments.\",\n          \"It is just after midnight. A family is fast asleep on a vast sofa in\\u00a0front of a television. They are woken abruptly by the sound track of the film they are watching, and find themselves being quite literally\\u00a0moved by the exhilarating sounds and images emanating from the\\u00a0screen.\"\n        ],\n        \"semantic_type\": \"\",\n        \"description\": \"\"\n      }\n    }\n  ]\n}"
            }
          },
          "metadata": {},
          "execution_count": 23
        }
      ]
    },
    {
      "cell_type": "code",
      "source": [
        "df['Genre'] = df['Genre'].apply(lambda x: x.split(',')[0])\n"
      ],
      "metadata": {
        "id": "dYWL2hPLfyJH"
      },
      "execution_count": null,
      "outputs": []
    },
    {
      "cell_type": "markdown",
      "source": [
        "## Text cleaning/Preprocessing"
      ],
      "metadata": {
        "id": "0sQB8GjLqYCI"
      }
    },
    {
      "cell_type": "code",
      "source": [
        "import re\n",
        "import nltk\n",
        "from nltk.corpus import stopwords\n",
        "from nltk.stem import PorterStemmer\n",
        "\n",
        "nltk.download('stopwords')\n",
        "stop_words = set(stopwords.words('english'))\n",
        "stemmer = PorterStemmer()\n",
        "\n",
        "\n",
        "def preprocess_text(text):\n",
        "    text = text.lower()\n",
        "    text = re.sub(r'\\W', ' ', text)\n",
        "    text = re.sub(r'\\s+', ' ', text)\n",
        "    text = ' '.join([stemmer.stem(word) for word in text.split() if word not in stop_words])\n",
        "    return text\n",
        "\n",
        "\n",
        "df['Cleaned_Plot'] = df['Plot'].apply(preprocess_text)\n"
      ],
      "metadata": {
        "colab": {
          "base_uri": "https://localhost:8080/"
        },
        "id": "FlaVAllih2pB",
        "outputId": "5456842d-f9fe-4b75-e245-6e291c90c18b"
      },
      "execution_count": null,
      "outputs": [
        {
          "output_type": "stream",
          "name": "stderr",
          "text": [
            "[nltk_data] Downloading package stopwords to /root/nltk_data...\n",
            "[nltk_data]   Package stopwords is already up-to-date!\n"
          ]
        }
      ]
    },
    {
      "cell_type": "markdown",
      "source": [
        "## Converting Text to Features (TF-IDF)"
      ],
      "metadata": {
        "id": "6LYL1Kf7qixQ"
      }
    },
    {
      "cell_type": "code",
      "source": [
        "from sklearn.feature_extraction.text import TfidfVectorizer\n",
        "\n",
        "vectorizer = TfidfVectorizer(max_features=500)\n",
        "X = vectorizer.fit_transform(df['Cleaned_Plot']).toarray()\n",
        "y = df['Genre']\n"
      ],
      "metadata": {
        "id": "Q79hIGprh-B4"
      },
      "execution_count": null,
      "outputs": []
    },
    {
      "cell_type": "markdown",
      "source": [
        "## Train/Test Splitting"
      ],
      "metadata": {
        "id": "ICG7FouYqmhQ"
      }
    },
    {
      "cell_type": "code",
      "source": [
        "from sklearn.model_selection import train_test_split\n",
        "\n",
        "X_train, X_test, y_train, y_test = train_test_split(X, y, test_size=0.2, random_state=42)\n"
      ],
      "metadata": {
        "id": "_tGMmU7YiFyw"
      },
      "execution_count": null,
      "outputs": []
    },
    {
      "cell_type": "markdown",
      "source": [
        "## Naive Bayes Classification"
      ],
      "metadata": {
        "id": "bVB6a7Etqrvg"
      }
    },
    {
      "cell_type": "code",
      "source": [
        "from sklearn.naive_bayes import MultinomialNB\n",
        "from sklearn.metrics import accuracy_score, classification_report\n",
        "\n",
        "nb_model = MultinomialNB()\n",
        "nb_model.fit(X_train, y_train)\n",
        "y_pred_nb = nb_model.predict(X_test)\n",
        "\n",
        "print(\"Naïve Bayes Accuracy:\", accuracy_score(y_test, y_pred_nb))\n",
        "print(classification_report(y_test, y_pred_nb))\n"
      ],
      "metadata": {
        "colab": {
          "base_uri": "https://localhost:8080/"
        },
        "id": "vnYk3SM9iIZm",
        "outputId": "3a34b1c4-b2b8-439f-9fca-76765d84d6df"
      },
      "execution_count": null,
      "outputs": [
        {
          "output_type": "stream",
          "name": "stdout",
          "text": [
            "Naïve Bayes Accuracy: 0.4657382643179932\n",
            "              precision    recall  f1-score   support\n",
            "\n",
            "      action       0.50      0.00      0.01       263\n",
            "       adult       0.00      0.00      0.00       112\n",
            "   adventure       0.00      0.00      0.00       139\n",
            "   animation       0.00      0.00      0.00       104\n",
            "   biography       0.00      0.00      0.00        61\n",
            "      comedy       0.53      0.25      0.34      1443\n",
            "       crime       0.00      0.00      0.00       107\n",
            " documentary       0.53      0.86      0.65      2659\n",
            "       drama       0.40      0.83      0.54      2697\n",
            "      family       0.00      0.00      0.00       150\n",
            "     fantasy       0.00      0.00      0.00        74\n",
            "   game-show       1.00      0.12      0.22        40\n",
            "     history       0.00      0.00      0.00        45\n",
            "      horror       0.58      0.09      0.15       431\n",
            "       music       0.62      0.15      0.24       144\n",
            "     musical       0.00      0.00      0.00        50\n",
            "     mystery       0.00      0.00      0.00        56\n",
            "        news       0.00      0.00      0.00        34\n",
            "  reality-tv       0.50      0.01      0.01       192\n",
            "     romance       0.00      0.00      0.00       151\n",
            "      sci-fi       0.33      0.01      0.01       143\n",
            "       short       0.61      0.04      0.08      1045\n",
            "       sport       0.00      0.00      0.00        93\n",
            "   talk-show       0.00      0.00      0.00        81\n",
            "    thriller       0.54      0.02      0.04       309\n",
            "         war       0.00      0.00      0.00        20\n",
            "     western       0.91      0.27      0.41       200\n",
            "\n",
            "    accuracy                           0.47     10843\n",
            "   macro avg       0.26      0.10      0.10     10843\n",
            "weighted avg       0.45      0.47      0.37     10843\n",
            "\n"
          ]
        },
        {
          "output_type": "stream",
          "name": "stderr",
          "text": [
            "/usr/local/lib/python3.11/dist-packages/sklearn/metrics/_classification.py:1565: UndefinedMetricWarning: Precision is ill-defined and being set to 0.0 in labels with no predicted samples. Use `zero_division` parameter to control this behavior.\n",
            "  _warn_prf(average, modifier, f\"{metric.capitalize()} is\", len(result))\n",
            "/usr/local/lib/python3.11/dist-packages/sklearn/metrics/_classification.py:1565: UndefinedMetricWarning: Precision is ill-defined and being set to 0.0 in labels with no predicted samples. Use `zero_division` parameter to control this behavior.\n",
            "  _warn_prf(average, modifier, f\"{metric.capitalize()} is\", len(result))\n",
            "/usr/local/lib/python3.11/dist-packages/sklearn/metrics/_classification.py:1565: UndefinedMetricWarning: Precision is ill-defined and being set to 0.0 in labels with no predicted samples. Use `zero_division` parameter to control this behavior.\n",
            "  _warn_prf(average, modifier, f\"{metric.capitalize()} is\", len(result))\n"
          ]
        }
      ]
    },
    {
      "cell_type": "markdown",
      "source": [
        "##  Logistic Regression"
      ],
      "metadata": {
        "id": "5Y-VL7eKqvrM"
      }
    },
    {
      "cell_type": "code",
      "source": [
        "from sklearn.linear_model import LogisticRegression\n",
        "\n",
        "log_reg = LogisticRegression(solver = 'liblinear', max_iter=200)\n",
        "log_reg.fit(X_train, y_train)\n",
        "y_pred_lr = log_reg.predict(X_test)\n",
        "\n",
        "print(\"Logistic Regression Accuracy:\", accuracy_score(y_test, y_pred_lr))\n",
        "print(classification_report(y_test, y_pred_lr))\n"
      ],
      "metadata": {
        "colab": {
          "base_uri": "https://localhost:8080/"
        },
        "id": "IKxkgWj-iKCl",
        "outputId": "8df41c88-919a-45ce-d4e7-d706e4c65185"
      },
      "execution_count": null,
      "outputs": [
        {
          "output_type": "stream",
          "name": "stdout",
          "text": [
            "Logistic Regression Accuracy: 0.5253158719911464\n",
            "              precision    recall  f1-score   support\n",
            "\n",
            "      action       0.35      0.13      0.18       263\n",
            "       adult       0.67      0.14      0.24       112\n",
            "   adventure       0.23      0.06      0.09       139\n",
            "   animation       0.35      0.08      0.13       104\n",
            "   biography       0.00      0.00      0.00        61\n",
            "      comedy       0.45      0.47      0.46      1443\n",
            "       crime       0.29      0.04      0.07       107\n",
            " documentary       0.62      0.83      0.71      2659\n",
            "       drama       0.49      0.74      0.59      2697\n",
            "      family       0.39      0.05      0.08       150\n",
            "     fantasy       0.00      0.00      0.00        74\n",
            "   game-show       0.88      0.35      0.50        40\n",
            "     history       0.00      0.00      0.00        45\n",
            "      horror       0.48      0.42      0.44       431\n",
            "       music       0.60      0.43      0.50       144\n",
            "     musical       1.00      0.02      0.04        50\n",
            "     mystery       0.00      0.00      0.00        56\n",
            "        news       0.00      0.00      0.00        34\n",
            "  reality-tv       0.46      0.16      0.24       192\n",
            "     romance       0.33      0.01      0.01       151\n",
            "      sci-fi       0.43      0.14      0.21       143\n",
            "       short       0.43      0.27      0.33      1045\n",
            "       sport       0.47      0.08      0.13        93\n",
            "   talk-show       0.38      0.12      0.19        81\n",
            "    thriller       0.39      0.09      0.15       309\n",
            "         war       0.00      0.00      0.00        20\n",
            "     western       0.66      0.55      0.60       200\n",
            "\n",
            "    accuracy                           0.53     10843\n",
            "   macro avg       0.38      0.19      0.22     10843\n",
            "weighted avg       0.49      0.53      0.48     10843\n",
            "\n"
          ]
        },
        {
          "output_type": "stream",
          "name": "stderr",
          "text": [
            "/usr/local/lib/python3.11/dist-packages/sklearn/metrics/_classification.py:1565: UndefinedMetricWarning: Precision is ill-defined and being set to 0.0 in labels with no predicted samples. Use `zero_division` parameter to control this behavior.\n",
            "  _warn_prf(average, modifier, f\"{metric.capitalize()} is\", len(result))\n",
            "/usr/local/lib/python3.11/dist-packages/sklearn/metrics/_classification.py:1565: UndefinedMetricWarning: Precision is ill-defined and being set to 0.0 in labels with no predicted samples. Use `zero_division` parameter to control this behavior.\n",
            "  _warn_prf(average, modifier, f\"{metric.capitalize()} is\", len(result))\n",
            "/usr/local/lib/python3.11/dist-packages/sklearn/metrics/_classification.py:1565: UndefinedMetricWarning: Precision is ill-defined and being set to 0.0 in labels with no predicted samples. Use `zero_division` parameter to control this behavior.\n",
            "  _warn_prf(average, modifier, f\"{metric.capitalize()} is\", len(result))\n"
          ]
        }
      ]
    },
    {
      "cell_type": "markdown",
      "source": [
        "## SVM"
      ],
      "metadata": {
        "id": "raDju_YFs1ao"
      }
    },
    {
      "cell_type": "code",
      "source": [
        "# from sklearn.svm import SVC\n",
        "\n",
        "# svm_model = SVC(kernel='rbf',max_iter = 500)\n",
        "# svm_model.fit(X_train, y_train)\n",
        "# y_pred_svm = svm_model.predict(X_test)\n",
        "\n",
        "# print(\"SVM Accuracy:\", accuracy_score(y_test, y_pred_svm))\n",
        "# print(classification_report(y_test, y_pred_svm))\n"
      ],
      "metadata": {
        "id": "JXZZ5rYfiMPM"
      },
      "execution_count": null,
      "outputs": []
    },
    {
      "cell_type": "markdown",
      "source": [
        "## Stochastic Gradient Descent (SGD) Classifier"
      ],
      "metadata": {
        "id": "bpSoWVgcq10Y"
      }
    },
    {
      "cell_type": "code",
      "source": [
        "from sklearn.linear_model import SGDClassifier\n",
        "\n",
        "sgd_svm = SGDClassifier(loss='hinge')\n",
        "sgd_svm.fit(X_train, y_train)\n",
        "y_pred_sgd = sgd_svm.predict(X_test)\n",
        "\n",
        "print(\"SGD Accuracy:\", accuracy_score(y_test, y_pred_sgd))\n"
      ],
      "metadata": {
        "colab": {
          "base_uri": "https://localhost:8080/"
        },
        "id": "6OibLOKDmsu4",
        "outputId": "9cc36b83-8346-4a53-a77c-0745fc29909e"
      },
      "execution_count": null,
      "outputs": [
        {
          "output_type": "stream",
          "name": "stdout",
          "text": [
            "SGD Accuracy: 0.5030895508623074\n"
          ]
        }
      ]
    },
    {
      "cell_type": "markdown",
      "source": [
        "## Predict Movie Genre for New Plot"
      ],
      "metadata": {
        "id": "UL-f0494q0ZG"
      }
    },
    {
      "cell_type": "code",
      "source": [
        "def predict_genre(plot):\n",
        "    cleaned_plot = preprocess_text(plot)\n",
        "    transformed_plot = vectorizer.transform([cleaned_plot]).toarray()\n",
        "\n",
        "    genre_nb = nb_model.predict(transformed_plot)[0]\n",
        "    genre_lr = log_reg.predict(transformed_plot)[0]\n",
        "    genre_svm = sgd_svm.predict(transformed_plot)[0]\n",
        "\n",
        "    print(f\"Predicted Genre (Naïve Bayes): {genre_nb}\")\n",
        "    print(f\"Predicted Genre (Logistic Regression): {genre_lr}\")\n",
        "    print(f\"Predicted Genre (SVM): {genre_svm}\")\n",
        "\n",
        "predict_genre(\"A detective investigates a mysterious murder case in a small town.\")\n"
      ],
      "metadata": {
        "colab": {
          "base_uri": "https://localhost:8080/"
        },
        "id": "byY8SoD-iOZC",
        "outputId": "60b5da5c-f72a-4d5e-e11d-0f05163be8f9"
      },
      "execution_count": null,
      "outputs": [
        {
          "output_type": "stream",
          "name": "stdout",
          "text": [
            "Predicted Genre (Naïve Bayes): horror\n",
            "Predicted Genre (Logistic Regression): mystery\n",
            "Predicted Genre (SVM): mystery\n"
          ]
        }
      ]
    },
    {
      "cell_type": "markdown",
      "source": [
        "# To improve these Model Performances"
      ],
      "metadata": {
        "id": "8b8yJqlUrd3Q"
      }
    },
    {
      "cell_type": "markdown",
      "source": [
        "## Improve TF-IDF Features"
      ],
      "metadata": {
        "id": "cNh6mPpUrIzJ"
      }
    },
    {
      "cell_type": "code",
      "source": [
        "vectorizer = TfidfVectorizer(max_features=2000, ngram_range=(1,2))\n"
      ],
      "metadata": {
        "id": "7WGAZ7oFoARe"
      },
      "execution_count": null,
      "outputs": []
    },
    {
      "cell_type": "code",
      "source": [
        "vectorizer = TfidfVectorizer(stop_words=None)\n"
      ],
      "metadata": {
        "id": "uJ3a28jXoxSZ"
      },
      "execution_count": null,
      "outputs": []
    },
    {
      "cell_type": "markdown",
      "source": [
        "##  Balance the Dataset (If Imbalanced Genres Exist)"
      ],
      "metadata": {
        "id": "COY61LN7rMFx"
      }
    },
    {
      "cell_type": "code",
      "source": [
        "from imblearn.over_sampling import SMOTE\n",
        "smote = SMOTE()\n",
        "X_train_resampled, y_train_resampled = smote.fit_resample(X_train, y_train)\n"
      ],
      "metadata": {
        "id": "jbsGqhbzozGk"
      },
      "execution_count": null,
      "outputs": []
    },
    {
      "cell_type": "markdown",
      "source": [
        "## Hyperparameter Tuning"
      ],
      "metadata": {
        "id": "CnNok7pyrSIo"
      }
    },
    {
      "cell_type": "code",
      "source": [
        "import pandas as pd\n",
        "from sklearn.model_selection import train_test_split, GridSearchCV\n",
        "from sklearn.naive_bayes import MultinomialNB\n",
        "from sklearn.linear_model import LogisticRegression\n",
        "param_grid = {'alpha': [0.1, 0.5, 1.0, 5.0]}\n",
        "grid_nb = GridSearchCV(MultinomialNB(), param_grid, cv=5)\n",
        "grid_nb.fit(X_train, y_train)\n",
        "print(\"Best NB Alpha:\", grid_nb.best_params_)\n"
      ],
      "metadata": {
        "colab": {
          "base_uri": "https://localhost:8080/"
        },
        "id": "OfT21B75o1X7",
        "outputId": "19e61223-8ba5-4d65-cf46-44a3ac795f93"
      },
      "execution_count": null,
      "outputs": [
        {
          "output_type": "stream",
          "name": "stdout",
          "text": [
            "Best NB Alpha: {'alpha': 0.1}\n"
          ]
        }
      ]
    },
    {
      "cell_type": "markdown",
      "source": [
        "##  Evaluate & Interpret Results"
      ],
      "metadata": {
        "id": "p_KdB_44rZwP"
      }
    },
    {
      "cell_type": "code",
      "source": [
        "from sklearn.metrics import classification_report\n",
        "\n",
        "y_pred_nb = grid_nb.best_estimator_.predict(X_test)\n",
        "y_pred_lr = log_reg.predict(X_test)\n",
        "y_pred_sgd = sgd_svm.predict(X_test)\n",
        "\n",
        "print(\"Naïve Bayes Report:\\n\", classification_report(y_test, y_pred_nb))\n",
        "print(\"Logistic Regression Report:\\n\", classification_report(y_test, y_pred_lr))\n",
        "print(\"SGD SVM Report:\\n\", classification_report(y_test, y_pred_sgd))\n"
      ],
      "metadata": {
        "colab": {
          "base_uri": "https://localhost:8080/"
        },
        "id": "keiYDlX7ps-Q",
        "outputId": "76283b22-5e98-43ec-af6c-e07ade8dad30"
      },
      "execution_count": null,
      "outputs": [
        {
          "output_type": "stream",
          "name": "stderr",
          "text": [
            "/usr/local/lib/python3.11/dist-packages/sklearn/metrics/_classification.py:1565: UndefinedMetricWarning: Precision is ill-defined and being set to 0.0 in labels with no predicted samples. Use `zero_division` parameter to control this behavior.\n",
            "  _warn_prf(average, modifier, f\"{metric.capitalize()} is\", len(result))\n",
            "/usr/local/lib/python3.11/dist-packages/sklearn/metrics/_classification.py:1565: UndefinedMetricWarning: Precision is ill-defined and being set to 0.0 in labels with no predicted samples. Use `zero_division` parameter to control this behavior.\n",
            "  _warn_prf(average, modifier, f\"{metric.capitalize()} is\", len(result))\n",
            "/usr/local/lib/python3.11/dist-packages/sklearn/metrics/_classification.py:1565: UndefinedMetricWarning: Precision is ill-defined and being set to 0.0 in labels with no predicted samples. Use `zero_division` parameter to control this behavior.\n",
            "  _warn_prf(average, modifier, f\"{metric.capitalize()} is\", len(result))\n",
            "/usr/local/lib/python3.11/dist-packages/sklearn/metrics/_classification.py:1565: UndefinedMetricWarning: Precision is ill-defined and being set to 0.0 in labels with no predicted samples. Use `zero_division` parameter to control this behavior.\n",
            "  _warn_prf(average, modifier, f\"{metric.capitalize()} is\", len(result))\n"
          ]
        },
        {
          "output_type": "stream",
          "name": "stdout",
          "text": [
            "Naïve Bayes Report:\n",
            "               precision    recall  f1-score   support\n",
            "\n",
            "      action       0.40      0.01      0.01       263\n",
            "       adult       1.00      0.01      0.02       112\n",
            "   adventure       0.00      0.00      0.00       139\n",
            "   animation       0.00      0.00      0.00       104\n",
            "   biography       0.00      0.00      0.00        61\n",
            "      comedy       0.53      0.26      0.34      1443\n",
            "       crime       0.00      0.00      0.00       107\n",
            " documentary       0.53      0.86      0.65      2659\n",
            "       drama       0.40      0.83      0.54      2697\n",
            "      family       0.00      0.00      0.00       150\n",
            "     fantasy       0.00      0.00      0.00        74\n",
            "   game-show       1.00      0.17      0.30        40\n",
            "     history       0.00      0.00      0.00        45\n",
            "      horror       0.59      0.10      0.17       431\n",
            "       music       0.65      0.23      0.34       144\n",
            "     musical       0.00      0.00      0.00        50\n",
            "     mystery       0.00      0.00      0.00        56\n",
            "        news       0.00      0.00      0.00        34\n",
            "  reality-tv       0.33      0.01      0.01       192\n",
            "     romance       0.00      0.00      0.00       151\n",
            "      sci-fi       0.50      0.02      0.04       143\n",
            "       short       0.58      0.04      0.08      1045\n",
            "       sport       0.00      0.00      0.00        93\n",
            "   talk-show       0.67      0.02      0.05        81\n",
            "    thriller       0.57      0.03      0.05       309\n",
            "         war       0.00      0.00      0.00        20\n",
            "     western       0.91      0.30      0.45       200\n",
            "\n",
            "    accuracy                           0.47     10843\n",
            "   macro avg       0.32      0.11      0.11     10843\n",
            "weighted avg       0.46      0.47      0.37     10843\n",
            "\n",
            "Logistic Regression Report:\n",
            "               precision    recall  f1-score   support\n",
            "\n",
            "      action       0.35      0.13      0.18       263\n",
            "       adult       0.67      0.14      0.24       112\n",
            "   adventure       0.23      0.06      0.09       139\n",
            "   animation       0.35      0.08      0.13       104\n",
            "   biography       0.00      0.00      0.00        61\n",
            "      comedy       0.45      0.47      0.46      1443\n",
            "       crime       0.29      0.04      0.07       107\n",
            " documentary       0.62      0.83      0.71      2659\n",
            "       drama       0.49      0.74      0.59      2697\n",
            "      family       0.39      0.05      0.08       150\n",
            "     fantasy       0.00      0.00      0.00        74\n",
            "   game-show       0.88      0.35      0.50        40\n",
            "     history       0.00      0.00      0.00        45\n",
            "      horror       0.48      0.42      0.44       431\n",
            "       music       0.60      0.43      0.50       144\n",
            "     musical       1.00      0.02      0.04        50\n",
            "     mystery       0.00      0.00      0.00        56\n",
            "        news       0.00      0.00      0.00        34\n",
            "  reality-tv       0.46      0.16      0.24       192\n",
            "     romance       0.33      0.01      0.01       151\n",
            "      sci-fi       0.43      0.14      0.21       143\n",
            "       short       0.43      0.27      0.33      1045\n",
            "       sport       0.47      0.08      0.13        93\n",
            "   talk-show       0.38      0.12      0.19        81\n",
            "    thriller       0.39      0.09      0.15       309\n",
            "         war       0.00      0.00      0.00        20\n",
            "     western       0.66      0.55      0.60       200\n",
            "\n",
            "    accuracy                           0.53     10843\n",
            "   macro avg       0.38      0.19      0.22     10843\n",
            "weighted avg       0.49      0.53      0.48     10843\n",
            "\n",
            "SGD SVM Report:\n",
            "               precision    recall  f1-score   support\n",
            "\n",
            "      action       0.19      0.22      0.20       263\n",
            "       adult       0.60      0.19      0.29       112\n",
            "   adventure       0.00      0.00      0.00       139\n",
            "   animation       0.19      0.22      0.20       104\n",
            "   biography       0.00      0.00      0.00        61\n",
            "      comedy       0.38      0.45      0.41      1443\n",
            "       crime       0.12      0.02      0.03       107\n",
            " documentary       0.67      0.78      0.72      2659\n",
            "       drama       0.51      0.73      0.60      2697\n",
            "      family       0.12      0.01      0.02       150\n",
            "     fantasy       0.00      0.00      0.00        74\n",
            "   game-show       0.51      0.62      0.56        40\n",
            "     history       0.00      0.00      0.00        45\n",
            "      horror       0.41      0.42      0.41       431\n",
            "       music       0.41      0.45      0.43       144\n",
            "     musical       0.00      0.00      0.00        50\n",
            "     mystery       0.13      0.05      0.08        56\n",
            "        news       0.33      0.03      0.05        34\n",
            "  reality-tv       0.44      0.06      0.10       192\n",
            "     romance       0.00      0.00      0.00       151\n",
            "      sci-fi       0.68      0.10      0.18       143\n",
            "       short       0.36      0.23      0.28      1045\n",
            "       sport       0.46      0.06      0.11        93\n",
            "   talk-show       0.47      0.09      0.15        81\n",
            "    thriller       0.14      0.00      0.01       309\n",
            "         war       0.00      0.00      0.00        20\n",
            "     western       0.44      0.65      0.53       200\n",
            "\n",
            "    accuracy                           0.50     10843\n",
            "   macro avg       0.28      0.20      0.20     10843\n",
            "weighted avg       0.45      0.50      0.46     10843\n",
            "\n"
          ]
        },
        {
          "output_type": "stream",
          "name": "stderr",
          "text": [
            "/usr/local/lib/python3.11/dist-packages/sklearn/metrics/_classification.py:1565: UndefinedMetricWarning: Precision is ill-defined and being set to 0.0 in labels with no predicted samples. Use `zero_division` parameter to control this behavior.\n",
            "  _warn_prf(average, modifier, f\"{metric.capitalize()} is\", len(result))\n",
            "/usr/local/lib/python3.11/dist-packages/sklearn/metrics/_classification.py:1565: UndefinedMetricWarning: Precision is ill-defined and being set to 0.0 in labels with no predicted samples. Use `zero_division` parameter to control this behavior.\n",
            "  _warn_prf(average, modifier, f\"{metric.capitalize()} is\", len(result))\n",
            "/usr/local/lib/python3.11/dist-packages/sklearn/metrics/_classification.py:1565: UndefinedMetricWarning: Precision is ill-defined and being set to 0.0 in labels with no predicted samples. Use `zero_division` parameter to control this behavior.\n",
            "  _warn_prf(average, modifier, f\"{metric.capitalize()} is\", len(result))\n",
            "/usr/local/lib/python3.11/dist-packages/sklearn/metrics/_classification.py:1565: UndefinedMetricWarning: Precision is ill-defined and being set to 0.0 in labels with no predicted samples. Use `zero_division` parameter to control this behavior.\n",
            "  _warn_prf(average, modifier, f\"{metric.capitalize()} is\", len(result))\n",
            "/usr/local/lib/python3.11/dist-packages/sklearn/metrics/_classification.py:1565: UndefinedMetricWarning: Precision is ill-defined and being set to 0.0 in labels with no predicted samples. Use `zero_division` parameter to control this behavior.\n",
            "  _warn_prf(average, modifier, f\"{metric.capitalize()} is\", len(result))\n"
          ]
        }
      ]
    },
    {
      "cell_type": "code",
      "source": [],
      "metadata": {
        "id": "L2g2o85Wptj9"
      },
      "execution_count": null,
      "outputs": []
    }
  ]
}